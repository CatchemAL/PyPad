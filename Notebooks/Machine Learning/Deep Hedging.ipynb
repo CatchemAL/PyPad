{
 "cells": [
  {
   "cell_type": "code",
   "execution_count": 1,
   "id": "10af954b-11bf-49d7-a9b3-1dcca5be81e3",
   "metadata": {},
   "outputs": [],
   "source": [
    "from math import sqrt\n",
    "import numpy as np\n",
    "from matplotlib import pyplot as plt\n",
    "from scipy.stats import norm"
   ]
  },
  {
   "cell_type": "code",
   "execution_count": 2,
   "id": "63ac1d2f-9579-4472-8c37-0315bfc3e701",
   "metadata": {},
   "outputs": [
    {
     "data": {
      "text/plain": [
       "array([[100.        ,  99.90348836, 102.04874514, ..., 100.21177683,\n",
       "        100.93417203, 101.45191309],\n",
       "       [100.        , 104.26218151, 104.00601309, ..., 135.9183546 ,\n",
       "        136.76381076, 138.60256962],\n",
       "       [100.        , 103.94244679, 100.27563826, ...,  86.90094602,\n",
       "         84.00166575,  85.45834438],\n",
       "       ...,\n",
       "       [100.        , 103.91727522, 104.0522162 , ..., 131.79138726,\n",
       "        130.48755072, 133.43778456],\n",
       "       [100.        , 100.07988076, 103.47169808, ..., 124.98912128,\n",
       "        123.51090654, 123.92570218],\n",
       "       [100.        ,  97.45735845,  99.18463405, ..., 158.83364315,\n",
       "        160.30203371, 157.08193191]])"
      ]
     },
     "execution_count": 2,
     "metadata": {},
     "output_type": "execute_result"
    }
   ],
   "source": [
    "import numpy as np\n",
    "from scipy.stats import norm\n",
    "\n",
    "S0 = 100\n",
    "K = 108\n",
    "T = 1\n",
    "num_steps = 100\n",
    "sigma = 0.2\n",
    "mu = 0.08\n",
    "r = 0.04\n",
    "n_path = 10_000\n",
    "\n",
    "\n",
    "def gbm(S0, r, sigma, t, n_path):\n",
    "    drift = r * t\n",
    "    time_steps = np.diff(t, prepend=0)\n",
    "    normals = np.random.standard_normal((n_path, num_steps+1))\n",
    "    normals = np.vstack([normals, -normals])\n",
    "    vol = sigma * np.sqrt(time_steps) * normals.cumsum(axis=1)\n",
    "    exponent = drift + vol\n",
    "    paths = S0 * np.exp(exponent)\n",
    "    return paths\n",
    "\n",
    "t = np.linspace(0, T, num_steps + 1)\n",
    "S = gbm(S0, r, sigma, t, n_path)\n",
    "S"
   ]
  },
  {
   "cell_type": "code",
   "execution_count": 3,
   "id": "476222ae-4bfc-4973-a583-f67ce0d33007",
   "metadata": {},
   "outputs": [],
   "source": [
    "def _d1(S, K, r, sigma, t, T):\n",
    "    t2m = T - t\n",
    "    numerator = np.log(S / K) + (r + 0.5 * sigma**2) * t2m\n",
    "    denominator = sigma * np.sqrt(t2m)\n",
    "    with np.errstate(divide='ignore'):\n",
    "        return numerator / denominator\n",
    "\n",
    "def _d2(d1, sigma, t, T):\n",
    "    t2m = T - t\n",
    "    return d1 - sigma * np.sqrt(t2m)\n",
    "\n",
    "def call(S, K, r, t, T, d1, d2):\n",
    "    return S * norm.cdf(d1) - K * np.exp(-r * (T - t)) * norm.cdf(d2)\n",
    "\n",
    "def put(S, K, r, t, T, d1, d2):\n",
    "    return -S * norm.cdf(-d1) + K * np.exp(-r * (T - t)) * norm.cdf(-d2)\n",
    "\n",
    "def call_delta(d1):\n",
    "    return norm.cdf(d1)\n",
    "\n",
    "def put_delta(d1):\n",
    "    return norm.cdf(d1) - 1\n",
    "\n",
    "d1 = _d1(S, K, r, sigma, t, T)\n",
    "d2 = _d2(d1, sigma, t, T)\n",
    "\n",
    "c = call(S, K, r, t, T, d1, d2)\n",
    "p = put(S, K, r, t, T, d1, d2)"
   ]
  },
  {
   "cell_type": "code",
   "execution_count": 4,
   "id": "c18f3428-e859-49f1-8613-aed9bc15daea",
   "metadata": {},
   "outputs": [
    {
     "name": "stdout",
     "output_type": "stream",
     "text": [
      "Call=6.370611880864999\n",
      "Put=10.135871309315903\n"
     ]
    }
   ],
   "source": [
    "print(f'Call={c[0, 0]}')\n",
    "print(f'Put={p[0, 0]}')"
   ]
  },
  {
   "cell_type": "code",
   "execution_count": 5,
   "id": "4ac9cc90-2252-443d-a32a-69e353193fec",
   "metadata": {},
   "outputs": [
    {
     "data": {
      "text/plain": [
       "array([[4.66208127e-01, 4.62912144e-01, 5.04270361e-01, ...,\n",
       "        3.06553574e-02, 4.61033740e-03, 3.99509711e-04],\n",
       "       [4.66208127e-01, 5.48351062e-01, 5.42470413e-01, ...,\n",
       "        1.00000000e+00, 1.00000000e+00, 1.00000000e+00],\n",
       "       [4.66208127e-01, 5.42233521e-01, 4.68983858e-01, ...,\n",
       "        4.10944578e-11, 1.06528859e-14, 2.41000381e-36],\n",
       "       ...,\n",
       "       [4.66208127e-01, 5.41750666e-01, 5.43360148e-01, ...,\n",
       "        1.00000000e+00, 1.00000000e+00, 1.00000000e+00],\n",
       "       [4.66208127e-01, 4.66434797e-01, 5.32137870e-01, ...,\n",
       "        9.99999288e-01, 9.99999904e-01, 1.00000000e+00],\n",
       "       [4.66208127e-01, 4.13842120e-01, 4.47065799e-01, ...,\n",
       "        1.00000000e+00, 1.00000000e+00, 1.00000000e+00]])"
      ]
     },
     "execution_count": 5,
     "metadata": {},
     "output_type": "execute_result"
    }
   ],
   "source": [
    "delta = call_delta(d1)[:, :-1]\n",
    "delta"
   ]
  },
  {
   "cell_type": "code",
   "execution_count": 6,
   "id": "0eb284ac-bfbd-4f19-871b-fb157a2ab3a0",
   "metadata": {},
   "outputs": [
    {
     "data": {
      "text/plain": [
       "6.410150292120234"
      ]
     },
     "execution_count": 6,
     "metadata": {},
     "output_type": "execute_result"
    }
   ],
   "source": [
    "discount_factors = np.exp(-r * t)\n",
    "txns = np.diff(delta, axis=1, prepend=0, append=0) * S\n",
    "txns[:, -1] += np.maximum(S[:, -1] - K, 0)\n",
    "disounted_txns = discount_factors * txns\n",
    "costs = disounted_txns.sum(axis=1)\n",
    "np.mean(costs)"
   ]
  },
  {
   "cell_type": "code",
   "execution_count": 7,
   "id": "68b731f8-23db-4d52-865f-2fad768a610a",
   "metadata": {},
   "outputs": [
    {
     "data": {
      "text/plain": [
       "10.175409720571142"
      ]
     },
     "execution_count": 7,
     "metadata": {},
     "output_type": "execute_result"
    }
   ],
   "source": [
    "discount_factors = np.exp(-r * t)\n",
    "txns = np.diff(delta - 1, axis=1, prepend=0, append=0) * S\n",
    "txns[:, -1] += np.maximum(K - S[:, -1], 0)\n",
    "disounted_txns = discount_factors * txns\n",
    "costs = disounted_txns.sum(axis=1)\n",
    "np.mean(costs)"
   ]
  }
 ],
 "metadata": {
  "kernelspec": {
   "display_name": "Python 3 (ipykernel)",
   "language": "python",
   "name": "python3"
  },
  "language_info": {
   "codemirror_mode": {
    "name": "ipython",
    "version": 3
   },
   "file_extension": ".py",
   "mimetype": "text/x-python",
   "name": "python",
   "nbconvert_exporter": "python",
   "pygments_lexer": "ipython3",
   "version": "3.11.3"
  }
 },
 "nbformat": 4,
 "nbformat_minor": 5
}
