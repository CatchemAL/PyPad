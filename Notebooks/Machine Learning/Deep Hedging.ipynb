{
 "cells": [
  {
   "cell_type": "code",
   "execution_count": 178,
   "id": "10af954b-11bf-49d7-a9b3-1dcca5be81e3",
   "metadata": {},
   "outputs": [],
   "source": [
    "from math import sqrt\n",
    "import numpy as np\n",
    "from matplotlib import pyplot as plt\n",
    "from scipy.stats import norm"
   ]
  },
  {
   "cell_type": "code",
   "execution_count": 179,
   "id": "63ac1d2f-9579-4472-8c37-0315bfc3e701",
   "metadata": {},
   "outputs": [
    {
     "data": {
      "text/plain": [
       "array([[100.        ,  85.12199435, 101.46517713, ..., 126.30966334,\n",
       "         92.91854242,  80.19202072],\n",
       "       [100.        ,  97.35269051,  97.47003726, ...,  78.89405737,\n",
       "         94.22718536, 103.35490023],\n",
       "       [100.        , 101.16517989, 102.83425436, ...,  76.50291651,\n",
       "         61.03808046, 109.09671826],\n",
       "       ...,\n",
       "       [100.        , 105.70069656, 110.48168257, ...,  83.69960489,\n",
       "         83.87288974, 110.19019098],\n",
       "       [100.        ,  96.27184994,  97.69464736, ...,  89.23117757,\n",
       "        109.10905959, 116.35204503],\n",
       "       [100.        ,  96.04690096,  79.29512693, ...,  76.77226433,\n",
       "        128.67640157, 115.1324382 ]])"
      ]
     },
     "execution_count": 179,
     "metadata": {},
     "output_type": "execute_result"
    }
   ],
   "source": [
    "import numpy as np\n",
    "from scipy.stats import norm\n",
    "\n",
    "S0 = 100\n",
    "K = 104\n",
    "T = 1\n",
    "num_steps = 10\n",
    "sigma = 0.2\n",
    "mu = 0.08\n",
    "r = 0.04\n",
    "n_path = 10_000\n",
    "\n",
    "\n",
    "def gbm(S0, r, sigma, t, n_path):\n",
    "    drift = r * t\n",
    "    vol = sigma * np.sqrt(t) * np.random.standard_normal((n_path, num_steps+1))\n",
    "    exponent = drift + vol\n",
    "    paths = S0 * np.exp(exponent)\n",
    "    return paths\n",
    "\n",
    "t = np.linspace(0, T, num_steps + 1)\n",
    "S = gbm(S0, r, sigma, t, n_path)\n",
    "S"
   ]
  },
  {
   "cell_type": "code",
   "execution_count": 180,
   "id": "476222ae-4bfc-4973-a583-f67ce0d33007",
   "metadata": {},
   "outputs": [
    {
     "data": {
      "text/plain": [
       "7.923576011963995"
      ]
     },
     "execution_count": 180,
     "metadata": {},
     "output_type": "execute_result"
    }
   ],
   "source": [
    "def _d1(S, K, r, sigma, t, T):\n",
    "    t2m = T - t\n",
    "    numerator = np.log(S / K) + (r + 0.5 * sigma**2) * t2m\n",
    "    denominator = sigma * np.sqrt(t2m)\n",
    "    with np.errstate(divide='ignore'):\n",
    "        return numerator / denominator\n",
    "\n",
    "def _d2(d1, sigma, t, T):\n",
    "    t2m = T - t\n",
    "    return d1 - sigma * np.sqrt(t2m)\n",
    "\n",
    "def call(S, K, r, t, T, d1, d2):\n",
    "    return S * norm.cdf(d1) - K * np.exp(-r * (T - t)) * norm.cdf(d2)\n",
    "\n",
    "def put(S, K, r, t, T, d1, d2):\n",
    "    return -S * norm.cdf(-d1) + K * np.exp(-r * (T - t)) * norm.cdf(-d2)\n",
    "\n",
    "d1 = _d1(S, K, r, sigma, t, T)\n",
    "d2 = _d2(d1, sigma, t, T)\n",
    "\n",
    "c = call(S, K, r, t, T, d1, d2)\n",
    "p = put(S, K, r, t, T, d1, d2)\n",
    "p[0, 0]"
   ]
  },
  {
   "cell_type": "code",
   "execution_count": null,
   "id": "5a9c7750-6752-45d0-9645-b0bf7157e8cd",
   "metadata": {},
   "outputs": [],
   "source": []
  }
 ],
 "metadata": {
  "kernelspec": {
   "display_name": "Python 3 (ipykernel)",
   "language": "python",
   "name": "python3"
  },
  "language_info": {
   "codemirror_mode": {
    "name": "ipython",
    "version": 3
   },
   "file_extension": ".py",
   "mimetype": "text/x-python",
   "name": "python",
   "nbconvert_exporter": "python",
   "pygments_lexer": "ipython3",
   "version": "3.11.3"
  }
 },
 "nbformat": 4,
 "nbformat_minor": 5
}
