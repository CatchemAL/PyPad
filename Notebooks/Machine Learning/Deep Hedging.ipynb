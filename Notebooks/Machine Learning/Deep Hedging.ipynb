{
 "cells": [
  {
   "cell_type": "code",
   "execution_count": 101,
   "id": "10af954b-11bf-49d7-a9b3-1dcca5be81e3",
   "metadata": {},
   "outputs": [],
   "source": [
    "from math import sqrt\n",
    "import numpy as np\n",
    "from matplotlib import pyplot as plt\n",
    "from scipy.stats import norm"
   ]
  },
  {
   "cell_type": "code",
   "execution_count": 102,
   "id": "63ac1d2f-9579-4472-8c37-0315bfc3e701",
   "metadata": {},
   "outputs": [
    {
     "data": {
      "text/plain": [
       "array([[1.        , 1.00094342, 1.00481152, ..., 0.92573673, 0.94272987,\n",
       "        0.95573945],\n",
       "       [1.        , 0.99054454, 0.95261323, ..., 0.92857777, 0.93592109,\n",
       "        0.91094436],\n",
       "       [1.        , 0.98802818, 0.99678191, ..., 0.92807148, 0.93179125,\n",
       "        0.95220372],\n",
       "       ...,\n",
       "       [1.        , 1.06302536, 1.09737097, ..., 1.01857982, 0.99684835,\n",
       "        0.98772544],\n",
       "       [1.        , 1.02711552, 1.02871529, ..., 0.6845403 , 0.68537906,\n",
       "        0.67205168],\n",
       "       [1.        , 0.97741744, 1.00305939, ..., 1.18037425, 1.1362293 ,\n",
       "        1.15496392]])"
      ]
     },
     "execution_count": 102,
     "metadata": {},
     "output_type": "execute_result"
    }
   ],
   "source": [
    "import numpy as np\n",
    "from scipy.stats import norm\n",
    "\n",
    "S0 = 1.00\n",
    "K = 1.08\n",
    "T = 1\n",
    "num_steps = 100\n",
    "sigma = 0.2\n",
    "mu = 0.08\n",
    "r = 0.04\n",
    "n_path = 10_000\n",
    "\n",
    "\n",
    "def gbm(S0, r, sigma, t, n_path):\n",
    "    drift = r * t\n",
    "    time_steps = np.diff(t, prepend=0)\n",
    "    normals = np.random.standard_normal((n_path, num_steps+1))\n",
    "    normals = np.vstack([normals, -normals])\n",
    "    vol = sigma * np.sqrt(time_steps) * normals.cumsum(axis=1)\n",
    "    exponent = drift + vol\n",
    "    paths = S0 * np.exp(exponent)\n",
    "    return paths\n",
    "\n",
    "t = np.linspace(0, T, num_steps + 1)\n",
    "S = gbm(S0, r, sigma, t, n_path)\n",
    "S\n",
    "\n",
    "S= stock.prices\n",
    "S"
   ]
  },
  {
   "cell_type": "code",
   "execution_count": 103,
   "id": "476222ae-4bfc-4973-a583-f67ce0d33007",
   "metadata": {},
   "outputs": [],
   "source": [
    "def _d1(S, K, r, sigma, t, T):\n",
    "    t2m = T - t\n",
    "    numerator = np.log(S / K) + (r + 0.5 * sigma**2) * t2m\n",
    "    denominator = sigma * np.sqrt(t2m)\n",
    "    with np.errstate(divide='ignore'):\n",
    "        return numerator / denominator\n",
    "\n",
    "def _d2(d1, sigma, t, T):\n",
    "    t2m = T - t\n",
    "    return d1 - sigma * np.sqrt(t2m)\n",
    "\n",
    "def call(S, K, r, t, T, d1, d2):\n",
    "    return S * norm.cdf(d1) - K * np.exp(-r * (T - t)) * norm.cdf(d2)\n",
    "\n",
    "def put(S, K, r, t, T, d1, d2):\n",
    "    return -S * norm.cdf(-d1) + K * np.exp(-r * (T - t)) * norm.cdf(-d2)\n",
    "\n",
    "def call_delta(d1):\n",
    "    return norm.cdf(d1)\n",
    "\n",
    "def put_delta(d1):\n",
    "    return norm.cdf(d1) - 1\n",
    "\n",
    "d1 = _d1(S, K, r, sigma, t, T)\n",
    "d2 = _d2(d1, sigma, t, T)\n",
    "\n",
    "c = call(S, K, r, t, T, d1, d2)\n",
    "p = put(S, K, r, t, T, d1, d2)"
   ]
  },
  {
   "cell_type": "code",
   "execution_count": 104,
   "id": "c18f3428-e859-49f1-8613-aed9bc15daea",
   "metadata": {},
   "outputs": [
    {
     "name": "stdout",
     "output_type": "stream",
     "text": [
      "Call=0.06370611880864996\n",
      "Put=0.10135871309315903\n"
     ]
    }
   ],
   "source": [
    "print(f'Call={c[0, 0]}')\n",
    "print(f'Put={p[0, 0]}')"
   ]
  },
  {
   "cell_type": "code",
   "execution_count": 105,
   "id": "4ac9cc90-2252-443d-a32a-69e353193fec",
   "metadata": {},
   "outputs": [
    {
     "data": {
      "text/plain": [
       "array([[4.66208127e-001, 4.66723438e-001, 4.73098390e-001, ...,\n",
       "        4.41285188e-007, 3.20864306e-008, 6.58187672e-012],\n",
       "       [4.66208127e-001, 4.45914952e-001, 3.68087487e-001, ...,\n",
       "        1.72741954e-006, 5.84018788e-008, 5.04557744e-013],\n",
       "       [4.66208127e-001, 4.40867087e-001, 4.56995009e-001, ...,\n",
       "        2.93041284e-007, 5.25405424e-008, 9.88254392e-014],\n",
       "       ...,\n",
       "       [4.66208127e-001, 5.86630876e-001, 6.47127228e-001, ...,\n",
       "        8.28504444e-002, 2.12959719e-002, 3.50592168e-005],\n",
       "       [4.66208127e-001, 5.18423938e-001, 5.20442295e-001, ...,\n",
       "        2.48037255e-040, 1.80492890e-058, 1.90102412e-114],\n",
       "       [4.66208127e-001, 4.19555728e-001, 4.69590839e-001, ...,\n",
       "        9.93225480e-001, 9.99274912e-001, 9.94881293e-001]])"
      ]
     },
     "execution_count": 105,
     "metadata": {},
     "output_type": "execute_result"
    }
   ],
   "source": [
    "delta = call_delta(d1)[:, :-1]\n",
    "delta"
   ]
  },
  {
   "cell_type": "code",
   "execution_count": 106,
   "id": "0eb284ac-bfbd-4f19-871b-fb157a2ab3a0",
   "metadata": {},
   "outputs": [
    {
     "data": {
      "text/plain": [
       "0.06407922389550762"
      ]
     },
     "execution_count": 106,
     "metadata": {},
     "output_type": "execute_result"
    }
   ],
   "source": [
    "discount_factors = np.exp(-r * t)\n",
    "txns = np.diff(delta, axis=1, prepend=0, append=0) * S\n",
    "txns[:, -1] += np.maximum(S[:, -1] - K, 0)\n",
    "disounted_txns = discount_factors * txns\n",
    "costs = disounted_txns.sum(axis=1)\n",
    "\n",
    "np.mean(costs)"
   ]
  },
  {
   "cell_type": "code",
   "execution_count": 107,
   "id": "68b731f8-23db-4d52-865f-2fad768a610a",
   "metadata": {},
   "outputs": [
    {
     "data": {
      "text/plain": [
       "0.10173181818001674"
      ]
     },
     "execution_count": 107,
     "metadata": {},
     "output_type": "execute_result"
    }
   ],
   "source": [
    "discount_factors = np.exp(-r * t)\n",
    "txns = np.diff(delta - 1, axis=1, prepend=0, append=0) * S\n",
    "txns[:, -1] += np.maximum(K - S[:, -1], 0)\n",
    "disounted_txns = discount_factors * txns\n",
    "costs = disounted_txns.sum(axis=1)\n",
    "np.mean(costs)"
   ]
  },
  {
   "cell_type": "code",
   "execution_count": 108,
   "id": "c8f9133b-9e7d-4428-87aa-5d01e523706a",
   "metadata": {},
   "outputs": [],
   "source": [
    "from typing import Protocol, Sequence\n",
    "from dataclasses import dataclass\n",
    "\n",
    "class Stock:\n",
    "    def __init__(self, mu: float, r: float, sigma: float, time_steps: Sequence[float], cost: float = 0.0) -> None:\n",
    "        self.mu = mu\n",
    "        self.r = r\n",
    "        self.sigma = sigma\n",
    "        self.time_steps = time_steps\n",
    "        self.cost = cost\n",
    "\n",
    "        self.prices: np.ndarray | None = None\n",
    "\n",
    "    def simulate(self, num_sims: int) -> None:\n",
    "        drift = self.mu * self.time_steps\n",
    "        time_increments = np.diff(self.time_steps, prepend=0)\n",
    "        normals = np.random.standard_normal((num_sims // 2, len(self.time_steps)))\n",
    "        normals = np.vstack([normals, -normals])\n",
    "        vol = self.sigma * np.sqrt(time_increments) * normals.cumsum(axis=1)\n",
    "        exponent = drift + vol\n",
    "        self.prices = np.exp(exponent)\n",
    "\n",
    "    def discount_factors(self) -> None:\n",
    "        discount_factors = np.exp(-self.r * self.time_steps)\n",
    "        return discount_factors\n",
    "\n",
    "@dataclass\n",
    "class EuropeanOption:\n",
    "    stock: Stock\n",
    "    strike: float\n",
    "    maturity: float\n",
    "    is_call: bool\n",
    "\n",
    "class HedgingStrategy(Protocol):\n",
    "\n",
    "    @property\n",
    "    def stock(self) -> Stock:\n",
    "        ...\n",
    "    \n",
    "    @property\n",
    "    def derivative(self) -> EuropeanOption:\n",
    "        ...\n",
    "    \n",
    "    def get_hedge_ratio(self, time_step_idx: int | None = None):\n",
    "        ...\n",
    "\n",
    "@dataclass\n",
    "class BlackScholesHedgingStrategy:\n",
    "\n",
    "    option: EuropeanOption\n",
    "\n",
    "    @property\n",
    "    def stock(self) -> Stock:\n",
    "        return self.option.stock\n",
    "    \n",
    "    @property\n",
    "    def derivative(self) -> EuropeanOption:\n",
    "        return self.option\n",
    "    \n",
    "    def get_hedge_ratio(self, time_step_idx: int | None = None):\n",
    "        if time_step_idx:\n",
    "            raise NotImplementedError('TODO')\n",
    "\n",
    "        stock = self.option.stock\n",
    "        S = stock.prices\n",
    "        r = stock.r\n",
    "        K = self.option.strike\n",
    "        d = BlackScholesHedgingStrategy.d1(S, K, stock.r, stock.sigma, stock.time_steps, self.option.maturity)\n",
    "\n",
    "        if self.option.is_call:\n",
    "            return BlackScholesHedgingStrategy.call_delta(d)\n",
    "        \n",
    "        return BlackScholesHedgingStrategy.put_delta(d)\n",
    "\n",
    "    @staticmethod\n",
    "    def d1(S, K, r, sigma, t, T):\n",
    "        t2m = T - t\n",
    "        numerator = np.log(S / K) + (r + 0.5 * sigma**2) * t2m\n",
    "        denominator = sigma * np.sqrt(t2m)\n",
    "\n",
    "        with np.errstate(divide='ignore'):\n",
    "            return numerator / denominator\n",
    "\n",
    "    @staticmethod\n",
    "    def d2(d1, sigma, t, T):\n",
    "        t2m = T - t\n",
    "        return d1 - sigma * np.sqrt(t2m)\n",
    "    \n",
    "    @staticmethod\n",
    "    def call_price(S, K, r, t, T, d1, d2):\n",
    "        return S * norm.cdf(d1) - K * np.exp(-r * (T - t)) * norm.cdf(d2)\n",
    "    \n",
    "    @staticmethod\n",
    "    def put_price(S, K, r, t, T, d1, d2):\n",
    "        return -S * norm.cdf(-d1) + K * np.exp(-r * (T - t)) * norm.cdf(-d2)\n",
    "    \n",
    "    @staticmethod\n",
    "    def call_delta(d1):\n",
    "        return norm.cdf(d1)\n",
    "    \n",
    "    @staticmethod\n",
    "    def put_delta(d1):\n",
    "        return norm.cdf(d1) - 1\n",
    "\n",
    "class Pricer:\n",
    "    def price(self, hedging_strategy: HedgingStrategy) -> float:\n",
    "        S = hedging_strategy.stock.prices\n",
    "        discount_factors = hedging_strategy.stock.discount_factors()\n",
    "        delta = hedging_strategy.get_hedge_ratio()[:, :-1]\n",
    "        txns = np.diff(delta, axis=1, prepend=0, append=0) * S\n",
    "        \n",
    "        payout = np.maximum(S[:, -1] - K, 0)\n",
    "        txns[:, -1] += payout\n",
    "        disounted_txns = discount_factors * txns\n",
    "        costs = disounted_txns.sum(axis=1)\n",
    "        \n",
    "        return np.mean(costs)"
   ]
  },
  {
   "cell_type": "code",
   "execution_count": 110,
   "id": "198bd503-fe58-4dac-9fdf-15b99c39b941",
   "metadata": {},
   "outputs": [
    {
     "data": {
      "text/plain": [
       "array([[1.        , 1.00410242, 1.01181463, ..., 0.85130459, 0.88608392,\n",
       "        0.91967041],\n",
       "       [1.        , 1.06021222, 1.04245734, ..., 1.11158554, 1.14051797,\n",
       "        1.12999349],\n",
       "       [1.        , 0.9894019 , 1.02084505, ..., 1.22997816, 1.2356688 ,\n",
       "        1.25695148],\n",
       "       ...,\n",
       "       [1.        , 0.97895449, 1.00779266, ..., 0.86411158, 0.84878838,\n",
       "        0.8385603 ],\n",
       "       [1.        , 1.04275904, 1.0655112 , ..., 1.03823363, 1.02895629,\n",
       "        1.02622797],\n",
       "       [1.        , 1.03558333, 1.03281781, ..., 1.19628004, 1.21100927,\n",
       "        1.26932351]])"
      ]
     },
     "execution_count": 110,
     "metadata": {},
     "output_type": "execute_result"
    }
   ],
   "source": [
    "import numpy as np\n",
    "\n",
    "K = 1.08\n",
    "T = 1\n",
    "num_steps = 100\n",
    "sigma = 0.2\n",
    "mu = 0.04\n",
    "r = 0.04\n",
    "n_path = 10_000\n",
    "t = np.linspace(0, T, num_steps + 1)\n",
    "\n",
    "\n",
    "stock = Stock(mu=r, r=r, sigma=sigma, time_steps=t)\n",
    "stock.simulate(n_path)\n",
    "stock.prices"
   ]
  },
  {
   "cell_type": "code",
   "execution_count": 111,
   "id": "74641da1-beb3-4363-bae4-36f9b579e2e7",
   "metadata": {},
   "outputs": [
    {
     "data": {
      "text/plain": [
       "array([[4.66208127e-01, 4.73022463e-01, 4.87074944e-01, ...,\n",
       "        9.74336694e-12, 2.87488145e-17, 2.94488993e-23],\n",
       "       [4.66208127e-01, 5.81436863e-01, 5.47080035e-01, ...,\n",
       "        7.03375601e-01, 8.55789612e-01, 9.97075012e-01],\n",
       "       [4.66208127e-01, 4.43623236e-01, 5.04976266e-01, ...,\n",
       "        9.99954968e-01, 9.99998257e-01, 1.00000000e+00],\n",
       "       ...,\n",
       "       [4.66208127e-01, 4.22644047e-01, 4.79056858e-01, ...,\n",
       "        6.07162926e-13, 2.21141538e-15, 1.47610044e-33],\n",
       "       [4.66208127e-01, 5.48612952e-01, 5.90475162e-01, ...,\n",
       "        4.28865921e-01, 8.81883972e-02, 8.40578627e-03],\n",
       "       [4.66208127e-01, 5.34846092e-01, 5.28446808e-01, ...,\n",
       "        9.87636997e-01, 9.99872762e-01, 9.99999996e-01]])"
      ]
     },
     "execution_count": 111,
     "metadata": {},
     "output_type": "execute_result"
    }
   ],
   "source": [
    "call_option = EuropeanOption(stock, K, T, is_call=True)\n",
    "bs_strategy = BlackScholesHedgingStrategy(call_option)\n",
    "bs_strategy.get_hedge_ratio()[:,:-1]"
   ]
  },
  {
   "cell_type": "code",
   "execution_count": 112,
   "id": "ed4d928a-15d4-43f0-9d01-168cbdf24c7a",
   "metadata": {},
   "outputs": [
    {
     "data": {
      "text/plain": [
       "0.06404802539114345"
      ]
     },
     "execution_count": 112,
     "metadata": {},
     "output_type": "execute_result"
    }
   ],
   "source": [
    "pricer = Pricer()\n",
    "pricer.price(bs_strategy)"
   ]
  }
 ],
 "metadata": {
  "kernelspec": {
   "display_name": "Python 3 (ipykernel)",
   "language": "python",
   "name": "python3"
  },
  "language_info": {
   "codemirror_mode": {
    "name": "ipython",
    "version": 3
   },
   "file_extension": ".py",
   "mimetype": "text/x-python",
   "name": "python",
   "nbconvert_exporter": "python",
   "pygments_lexer": "ipython3",
   "version": "3.11.3"
  }
 },
 "nbformat": 4,
 "nbformat_minor": 5
}
