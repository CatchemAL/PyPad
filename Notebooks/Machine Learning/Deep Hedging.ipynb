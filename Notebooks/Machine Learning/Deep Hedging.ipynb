{
 "cells": [
  {
   "cell_type": "code",
   "execution_count": 1,
   "id": "10af954b-11bf-49d7-a9b3-1dcca5be81e3",
   "metadata": {},
   "outputs": [],
   "source": [
    "from math import sqrt\n",
    "import numpy as np\n",
    "from matplotlib import pyplot as plt\n",
    "from scipy.stats import norm"
   ]
  },
  {
   "cell_type": "code",
   "execution_count": 2,
   "id": "63ac1d2f-9579-4472-8c37-0315bfc3e701",
   "metadata": {},
   "outputs": [
    {
     "data": {
      "text/plain": [
       "array([[1.        , 0.97846052, 0.96327748, ..., 1.13962736, 1.14796697,\n",
       "        1.1264337 ],\n",
       "       [1.        , 1.01046427, 1.0196638 , ..., 1.22213225, 1.20051055,\n",
       "        1.22044441],\n",
       "       [1.        , 1.03108928, 0.97927927, ..., 0.67790022, 0.67179563,\n",
       "        0.6848563 ],\n",
       "       ...,\n",
       "       [1.        , 1.01796355, 0.99472122, ..., 0.67379088, 0.69099357,\n",
       "        0.67930643],\n",
       "       [1.        , 1.02677579, 1.03018634, ..., 1.50266239, 1.5165647 ,\n",
       "        1.52515785],\n",
       "       [1.        , 1.02704319, 1.03201361, ..., 0.99062583, 1.0149136 ,\n",
       "        1.00786018]])"
      ]
     },
     "execution_count": 2,
     "metadata": {},
     "output_type": "execute_result"
    }
   ],
   "source": [
    "import numpy as np\n",
    "from scipy.stats import norm\n",
    "\n",
    "S0 = 1.00\n",
    "K = 1.08\n",
    "T = 1\n",
    "num_steps = 100\n",
    "sigma = 0.2\n",
    "mu = 0.08\n",
    "r = 0.04\n",
    "n_path = 10_000\n",
    "\n",
    "\n",
    "def gbm(S0, r, sigma, t, n_path):\n",
    "    drift = r * t\n",
    "    time_steps = np.diff(t, prepend=0)\n",
    "    normals = np.random.standard_normal((n_path, num_steps+1))\n",
    "    normals = np.vstack([normals, -normals])\n",
    "    vol = sigma * np.sqrt(time_steps) * normals.cumsum(axis=1)\n",
    "    exponent = drift + vol\n",
    "    paths = S0 * np.exp(exponent)\n",
    "    return paths\n",
    "\n",
    "t = np.linspace(0, T, num_steps + 1)\n",
    "S = gbm(S0, r, sigma, t, n_path)\n",
    "S\n"
   ]
  },
  {
   "cell_type": "code",
   "execution_count": 3,
   "id": "476222ae-4bfc-4973-a583-f67ce0d33007",
   "metadata": {},
   "outputs": [],
   "source": [
    "def _d1(S, K, r, sigma, t, T):\n",
    "    t2m = T - t\n",
    "    numerator = np.log(S / K) + (r + 0.5 * sigma**2) * t2m\n",
    "    denominator = sigma * np.sqrt(t2m)\n",
    "    with np.errstate(divide='ignore'):\n",
    "        return numerator / denominator\n",
    "\n",
    "def _d2(d1, sigma, t, T):\n",
    "    t2m = T - t\n",
    "    return d1 - sigma * np.sqrt(t2m)\n",
    "\n",
    "def call(S, K, r, t, T, d1, d2):\n",
    "    return S * norm.cdf(d1) - K * np.exp(-r * (T - t)) * norm.cdf(d2)\n",
    "\n",
    "def put(S, K, r, t, T, d1, d2):\n",
    "    return -S * norm.cdf(-d1) + K * np.exp(-r * (T - t)) * norm.cdf(-d2)\n",
    "\n",
    "def call_delta(d1):\n",
    "    return norm.cdf(d1)\n",
    "\n",
    "def put_delta(d1):\n",
    "    return norm.cdf(d1) - 1\n",
    "\n",
    "d1 = _d1(S, K, r, sigma, t, T)\n",
    "d2 = _d2(d1, sigma, t, T)\n",
    "\n",
    "c = call(S, K, r, t, T, d1, d2)\n",
    "p = put(S, K, r, t, T, d1, d2)"
   ]
  },
  {
   "cell_type": "code",
   "execution_count": 4,
   "id": "c18f3428-e859-49f1-8613-aed9bc15daea",
   "metadata": {},
   "outputs": [
    {
     "name": "stdout",
     "output_type": "stream",
     "text": [
      "Call=0.06370611880864996\n",
      "Put=0.10135871309315903\n"
     ]
    }
   ],
   "source": [
    "print(f'Call={c[0, 0]}')\n",
    "print(f'Put={p[0, 0]}')"
   ]
  },
  {
   "cell_type": "code",
   "execution_count": 5,
   "id": "4ac9cc90-2252-443d-a32a-69e353193fec",
   "metadata": {},
   "outputs": [
    {
     "data": {
      "text/plain": [
       "array([[4.66208127e-001, 4.21651539e-001, 3.89472115e-001, ...,\n",
       "        9.08260088e-001, 9.73957632e-001, 9.98970454e-001],\n",
       "       [4.66208127e-001, 4.85666760e-001, 5.02643464e-001, ...,\n",
       "        9.99739833e-001, 9.99994917e-001, 9.99999948e-001],\n",
       "       [4.66208127e-001, 5.26152891e-001, 4.21725141e-001, ...,\n",
       "        1.60934264e-042, 6.53266899e-061, 1.48712238e-124],\n",
       "       ...,\n",
       "       [4.66208127e-001, 5.00487301e-001, 4.52851757e-001, ...,\n",
       "        1.15797298e-045, 1.84574251e-062, 1.87704687e-110],\n",
       "       [4.66208127e-001, 5.17761426e-001, 5.23317267e-001, ...,\n",
       "        1.00000000e+000, 1.00000000e+000, 1.00000000e+000],\n",
       "       [4.66208127e-001, 5.18282919e-001, 5.26881028e-001, ...,\n",
       "        4.75884657e-003, 1.29959934e-003, 1.04240208e-003]])"
      ]
     },
     "execution_count": 5,
     "metadata": {},
     "output_type": "execute_result"
    }
   ],
   "source": [
    "delta = call_delta(d1)[:, :-1]\n",
    "delta"
   ]
  },
  {
   "cell_type": "code",
   "execution_count": 6,
   "id": "0eb284ac-bfbd-4f19-871b-fb157a2ab3a0",
   "metadata": {},
   "outputs": [
    {
     "data": {
      "text/plain": [
       "0.06405721399566709"
      ]
     },
     "execution_count": 6,
     "metadata": {},
     "output_type": "execute_result"
    }
   ],
   "source": [
    "discount_factors = np.exp(-r * t)\n",
    "txns = np.diff(delta, axis=1, prepend=0, append=0) * S\n",
    "txns[:, -1] += np.maximum(S[:, -1] - K, 0)\n",
    "disounted_txns = discount_factors * txns\n",
    "costs = disounted_txns.sum(axis=1)\n",
    "\n",
    "np.mean(costs)"
   ]
  },
  {
   "cell_type": "code",
   "execution_count": 7,
   "id": "68b731f8-23db-4d52-865f-2fad768a610a",
   "metadata": {},
   "outputs": [
    {
     "data": {
      "text/plain": [
       "0.10170980828017626"
      ]
     },
     "execution_count": 7,
     "metadata": {},
     "output_type": "execute_result"
    }
   ],
   "source": [
    "discount_factors = np.exp(-r * t)\n",
    "txns = np.diff(delta - 1, axis=1, prepend=0, append=0) * S\n",
    "txns[:, -1] += np.maximum(K - S[:, -1], 0)\n",
    "disounted_txns = discount_factors * txns\n",
    "costs = disounted_txns.sum(axis=1)\n",
    "np.mean(costs)"
   ]
  },
  {
   "cell_type": "code",
   "execution_count": 8,
   "id": "c8f9133b-9e7d-4428-87aa-5d01e523706a",
   "metadata": {},
   "outputs": [],
   "source": [
    "from typing import Protocol, Sequence\n",
    "from dataclasses import dataclass\n",
    "\n",
    "class Stock:\n",
    "    def __init__(\n",
    "        self, S0: float, mu: float, r: float, \n",
    "        sigma: float, time_steps: Sequence[float], \n",
    "        cost: float = 0.0\n",
    "    ) -> None:\n",
    "        self.S0 = S0\n",
    "        self.mu = mu\n",
    "        self.r = r\n",
    "        self.sigma = sigma\n",
    "        self.time_steps = time_steps\n",
    "        self.cost = cost\n",
    "\n",
    "        self.prices: np.ndarray | None = None\n",
    "\n",
    "    def simulate(self, num_sims: int) -> None:\n",
    "        drift = self.mu * self.time_steps\n",
    "        time_increments = np.diff(self.time_steps, prepend=0)\n",
    "        normals = np.random.standard_normal((num_sims // 2, len(self.time_steps)))\n",
    "        normals = np.vstack([normals, -normals])\n",
    "        vol = self.sigma * np.sqrt(time_increments) * normals.cumsum(axis=1)\n",
    "        exponent = drift + vol\n",
    "        self.prices = self.S0 * np.exp(exponent)\n",
    "\n",
    "    def discount_factors(self) -> None:\n",
    "        discount_factors = np.exp(-self.r * self.time_steps)\n",
    "        return discount_factors\n",
    "\n",
    "    def prices_at(self, t: float):\n",
    "        return self.prices[:, self.time_steps == t].squeeze()\n",
    "\n",
    "@dataclass\n",
    "class EuropeanOption:\n",
    "    stock: Stock\n",
    "    strike: float\n",
    "    maturity: float\n",
    "    is_call: bool\n",
    "\n",
    "    def payout(self):\n",
    "        S = self.stock.prices_at(self.maturity)\n",
    "        if self.is_call:\n",
    "            return np.maximum(S - self.strike, 0)\n",
    "        return np.maximum(self.strike - S, 0)\n",
    "\n",
    "class HedgingStrategy(Protocol):\n",
    "\n",
    "    @property\n",
    "    def stock(self) -> Stock:\n",
    "        ...\n",
    "    \n",
    "    @property\n",
    "    def derivative(self) -> EuropeanOption:\n",
    "        ...\n",
    "    \n",
    "    def get_hedge_ratio(self, time_step_idx: int | None = None):\n",
    "        ...\n",
    "\n",
    "@dataclass\n",
    "class BlackScholesHedgingStrategy:\n",
    "\n",
    "    option: EuropeanOption\n",
    "\n",
    "    @property\n",
    "    def stock(self) -> Stock:\n",
    "        return self.option.stock\n",
    "    \n",
    "    @property\n",
    "    def derivative(self) -> EuropeanOption:\n",
    "        return self.option\n",
    "    \n",
    "    def get_hedge_ratio(self, time_step_idx: int | None = None):\n",
    "        if time_step_idx:\n",
    "            raise NotImplementedError('TODO')\n",
    "\n",
    "        stock = self.option.stock\n",
    "        S = stock.prices\n",
    "        r = stock.r\n",
    "        K = self.option.strike\n",
    "        d = BlackScholesHedgingStrategy.d1(S, K, stock.r, stock.sigma, stock.time_steps, self.option.maturity)\n",
    "\n",
    "        if self.option.is_call:\n",
    "            return BlackScholesHedgingStrategy.call_delta(d)\n",
    "        \n",
    "        return BlackScholesHedgingStrategy.put_delta(d)\n",
    "\n",
    "    @staticmethod\n",
    "    def d1(S, K, r, sigma, t, T):\n",
    "        t2m = T - t\n",
    "        numerator = np.log(S / K) + (r + 0.5 * sigma**2) * t2m\n",
    "        denominator = sigma * np.sqrt(t2m)\n",
    "\n",
    "        with np.errstate(divide='ignore'):\n",
    "            return numerator / denominator\n",
    "\n",
    "    @staticmethod\n",
    "    def d2(d1, sigma, t, T):\n",
    "        t2m = T - t\n",
    "        return d1 - sigma * np.sqrt(t2m)\n",
    "    \n",
    "    @staticmethod\n",
    "    def call_price(S, K, r, t, T, d1, d2):\n",
    "        return S * norm.cdf(d1) - K * np.exp(-r * (T - t)) * norm.cdf(d2)\n",
    "    \n",
    "    @staticmethod\n",
    "    def put_price(S, K, r, t, T, d1, d2):\n",
    "        return -S * norm.cdf(-d1) + K * np.exp(-r * (T - t)) * norm.cdf(-d2)\n",
    "    \n",
    "    @staticmethod\n",
    "    def call_delta(d1):\n",
    "        return norm.cdf(d1)\n",
    "    \n",
    "    @staticmethod\n",
    "    def put_delta(d1):\n",
    "        return norm.cdf(d1) - 1\n",
    "\n",
    "class Pricer:\n",
    "    def price(self, hedging_strategy: HedgingStrategy) -> float:\n",
    "        S = hedging_strategy.stock.prices\n",
    "        discount_factors = hedging_strategy.stock.discount_factors()\n",
    "        delta = hedging_strategy.get_hedge_ratio()[:, :-1]\n",
    "        txns = S * np.diff(delta, axis=1, prepend=0, append=0)\n",
    "        \n",
    "        payoff = hedging_strategy.option.payout()\n",
    "        txns[:, -1] += payoff\n",
    "        disounted_txns = discount_factors * txns\n",
    "        costs = disounted_txns.sum(axis=1)\n",
    "        \n",
    "        return np.mean(costs)"
   ]
  },
  {
   "cell_type": "code",
   "execution_count": 18,
   "id": "198bd503-fe58-4dac-9fdf-15b99c39b941",
   "metadata": {},
   "outputs": [
    {
     "data": {
      "text/plain": [
       "array([[100.        ,  99.99302716, 103.32715823, ..., 136.17864698,\n",
       "        133.96861451, 137.38385209],\n",
       "       [100.        ,  96.51449031,  98.82272838, ...,  79.82666312,\n",
       "         81.87699973,  78.88146117],\n",
       "       [100.        ,  97.18930799,  95.62807912, ..., 106.35660159,\n",
       "        111.23171014, 107.42987526],\n",
       "       ...,\n",
       "       [100.        ,  99.27501184,  98.06910713, ...,  62.24882447,\n",
       "         61.98195361,  62.67395644],\n",
       "       [100.        , 102.2799254 , 103.69149214, ...,  82.47313416,\n",
       "         81.6124057 ,  79.74215945],\n",
       "       [100.        , 100.54591986,  98.30520855, ..., 101.77117655,\n",
       "        100.79495815, 102.63506443]])"
      ]
     },
     "execution_count": 18,
     "metadata": {},
     "output_type": "execute_result"
    }
   ],
   "source": [
    "import numpy as np\n",
    "\n",
    "S0 = 100\n",
    "K = 108\n",
    "T = 1\n",
    "num_steps = 100\n",
    "sigma = 0.2\n",
    "mu = 0.04\n",
    "r = 0.04\n",
    "n_path = 10_000\n",
    "t = np.linspace(0, T, num_steps + 1)\n",
    "\n",
    "\n",
    "stock = Stock(S0=S0, mu=r, r=r, sigma=sigma, time_steps=t)\n",
    "stock.simulate(n_path)\n",
    "stock.prices"
   ]
  },
  {
   "cell_type": "code",
   "execution_count": 24,
   "id": "74641da1-beb3-4363-bae4-36f9b579e2e7",
   "metadata": {},
   "outputs": [
    {
     "data": {
      "text/plain": [
       "6.410705501540723"
      ]
     },
     "execution_count": 24,
     "metadata": {},
     "output_type": "execute_result"
    }
   ],
   "source": [
    "call_option = EuropeanOption(stock, K, T, is_call=True)\n",
    "bs_strategy = BlackScholesHedgingStrategy(call_option)\n",
    "\n",
    "pricer = Pricer()\n",
    "pricer.price(bs_strategy)"
   ]
  }
 ],
 "metadata": {
  "kernelspec": {
   "display_name": "Python 3 (ipykernel)",
   "language": "python",
   "name": "python3"
  },
  "language_info": {
   "codemirror_mode": {
    "name": "ipython",
    "version": 3
   },
   "file_extension": ".py",
   "mimetype": "text/x-python",
   "name": "python",
   "nbconvert_exporter": "python",
   "pygments_lexer": "ipython3",
   "version": "3.11.3"
  }
 },
 "nbformat": 4,
 "nbformat_minor": 5
}
