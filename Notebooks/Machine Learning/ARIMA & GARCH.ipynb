{
 "cells": [
  {
   "cell_type": "code",
   "execution_count": null,
   "id": "37db9abe-3150-43ad-8043-e595c4b48e18",
   "metadata": {},
   "outputs": [],
   "source": [
    "import statsmodels.api as sm\n",
    "import numpy as np\n",
    "import matplotlib.pyplot as plt\n",
    "import seaborn as sns\n",
    "from pandas_datareader.data import DataReader\n",
    "from datetime import datetime\n",
    "from statsmodels.tsa.api import acf, graphics, pacf\n",
    "from statsmodels.tsa.ar_model import AutoReg, ar_select_order\n",
    "from statsmodels.tsa.arima.model import ARIMA\n",
    "\n",
    "sns.set_theme()\n",
    "\n",
    "def plot_correlogram(y: np.ndarray, label: str) -> None:\n",
    "    fig, axs = plt.subplots(2, figsize=(20, 12))\n",
    "    fig.suptitle(label)\n",
    "    axs[0].plot(y)\n",
    "    sm.graphics.tsa.plot_acf(y, lags=30, ax=axs[1])\n",
    "    plt.show()"
   ]
  },
  {
   "cell_type": "code",
   "execution_count": null,
   "id": "aefc84aa-d973-40c5-8e3c-7d791e28bfae",
   "metadata": {},
   "outputs": [],
   "source": [
    "white_noise = np.random.normal(loc=0, scale=1, size=(1000,))\n",
    "plot_correlogram(white_noise, 'White Noise')"
   ]
  },
  {
   "cell_type": "markdown",
   "id": "aec5c13f-1c0b-4a8b-8634-29e3c80d5255",
   "metadata": {},
   "source": [
    "## Random Walk\n",
    "A random walk is a time series model where the current observation is equal to the previous observation with a random step up or down.\n",
    "\n",
    "$x_t = x_{t-1} + w_t = \\text{B}x_t + w_t$\n",
    "\n",
    "$x_t = (1 + \\text{B} + \\text{B}^2 + \\text{B}^3 + ...) w_t$"
   ]
  },
  {
   "cell_type": "code",
   "execution_count": null,
   "id": "bde5d684-52cd-4367-b97f-582c07a1f72e",
   "metadata": {},
   "outputs": [],
   "source": [
    "random_walk = white_noise.cumsum()\n",
    "plot_correlogram(random_walk, 'Random Walk')"
   ]
  },
  {
   "cell_type": "code",
   "execution_count": null,
   "id": "37936e3c-413b-4918-adba-3cd313d4703a",
   "metadata": {},
   "outputs": [],
   "source": [
    "from pandas_datareader import data as pdr\n",
    "from datetime import date\n",
    "import yfinance as yf\n",
    "yf.pdr_override() \n",
    "import pandas as pd\n",
    "# Tickers list\n",
    "# We can add and delete any ticker from the list to get desired ticker live data\n",
    "ticker_list=['EXPE', 'PXD', 'MCHP', 'CRM', 'NRG', 'AMZN', 'MSFT', '^GSPC']\n",
    "today = date.today()\n",
    "# We can get data by our choice by giving days bracket\n",
    "start_date= \"2017–01–01\"\n",
    "end_date=\"2019–11–30\"\n",
    "\n",
    "start_date = datetime(2007, 1, 1)\n",
    "end_date = datetime(2015, 7, 17)\n",
    "\n",
    "df_by_ticker = {}\n",
    "for ticker in ticker_list:\n",
    "    print(ticker)\n",
    "    data = pdr.get_data_yahoo(ticker, start=start_date, end=end_date)\n",
    "    dataname= ticker+'_'+str(today)\n",
    "    df_by_ticker[ticker] = data\n",
    "    data.to_csv('./data/'+dataname+'.csv')"
   ]
  },
  {
   "cell_type": "code",
   "execution_count": null,
   "id": "2cf96f23-f0c3-4345-899e-55bbc513c83e",
   "metadata": {},
   "outputs": [],
   "source": [
    "microsoft = df_by_ticker[\"MSFT\"][\"Adj Close\"]\n",
    "amazon = df_by_ticker[\"AMZN\"][\"Adj Close\"]\n",
    "s_and_p_500 = df_by_ticker[\"^GSPC\"][\"Adj Close\"]\n",
    "s_and_p_500"
   ]
  },
  {
   "cell_type": "code",
   "execution_count": null,
   "id": "9015cfbd-c6be-4028-8ee1-461b03bb0b47",
   "metadata": {},
   "outputs": [],
   "source": [
    "microsoft_diff = np.diff(microsoft)\n",
    "plot_correlogram(microsoft_diff, 'Microsoft Diff')"
   ]
  },
  {
   "cell_type": "code",
   "execution_count": null,
   "id": "fb66f17f-427e-457c-bc95-784900abf8db",
   "metadata": {},
   "outputs": [],
   "source": [
    "s_and_p_500_diff = np.diff(s_and_p_500)\n",
    "plot_correlogram(s_and_p_500_diff, 'S&P500 Diff')"
   ]
  },
  {
   "cell_type": "markdown",
   "id": "b21702a0-f0e6-4c76-872a-adb4f7985c60",
   "metadata": {},
   "source": [
    "## AR(p) process\n",
    "The autoregressive model is simply an extension of the random walk that includes terms further back in time. The structure of the model is linear, that is the model depends linearly on the previous terms, with coefficients for each term. This is where the \"regressive\" comes from in \"autoregressive\". It is essentially a regression model where the previous terms are the predictors.\n",
    "\n",
    "$x_t = \\alpha_1 x_{t-1} + \\alpha_2 x_{t-2} + ... + \\alpha_p x_{t-p} + w_t$\n",
    "\n",
    "$x_t = \\alpha_1 \\text{B} x_{t} + \\alpha_2 \\text{B}^2 x_{t} + ... + \\alpha_p \\text{B}^p x_t + w_t$\n",
    "\n",
    "$(1 - \\alpha_1 \\text{B} - \\alpha_2 \\text{B}^2 - ... - \\alpha_p \\text{B}^p) x_t = w_t$"
   ]
  },
  {
   "cell_type": "code",
   "execution_count": null,
   "id": "ca997ffe-7483-419c-bb0d-39c288401fb1",
   "metadata": {},
   "outputs": [],
   "source": [
    "white_noise = np.random.normal(loc=0, scale=1, size=(1000,))\n",
    "\n",
    "alpha1 = 1\n",
    "alpha2 = -0.1\n",
    "ar1 = white_noise.copy()\n",
    "for i, wn in enumerate(white_noise):\n",
    "    if i <= 1:\n",
    "        continue\n",
    "    \n",
    "    ar1[i] = alpha1 * ar1[i-1] + alpha2 * ar1[i-2] + wn\n",
    "    \n",
    "plot_correlogram(ar1, 'AR(2)')"
   ]
  },
  {
   "cell_type": "code",
   "execution_count": null,
   "id": "25547a86-1b1c-428c-9e66-2164cbbbc9db",
   "metadata": {},
   "outputs": [],
   "source": [
    "orders = ar_select_order(ar1, maxlag=5)\n",
    "order = max(orders.ar_lags)\n",
    "print(f'Order determined to be: {order}')\n",
    "mod = AutoReg(ar1, order, trend='n')\n",
    "res = mod.fit()\n",
    "print(res.summary())"
   ]
  },
  {
   "cell_type": "code",
   "execution_count": null,
   "id": "486a53d4-06cd-4d73-a834-b7e1ea467016",
   "metadata": {},
   "outputs": [],
   "source": [
    "from statsmodels.tsa.arima_process import ArmaProcess\n",
    "alpha1 = 2/3\n",
    "alpha2 = -1/3\n",
    "ar = [1, -alpha1, -alpha2]\n",
    "ma = None\n",
    "process = ArmaProcess(ar, ma)\n",
    "ar_samples = process.generate_sample(nsample=1_000, burnin=100)\n",
    "plot_correlogram(ar_samples, 'AR(2) via statsmodels')"
   ]
  },
  {
   "cell_type": "code",
   "execution_count": null,
   "id": "76343083-cd29-4021-9419-932bfa7c3d11",
   "metadata": {},
   "outputs": [],
   "source": [
    "fig, axs = plt.subplots(1, figsize=(8, 5))\n",
    "fig.suptitle('AMAZON')\n",
    "amazon.plot(ax=axs)"
   ]
  },
  {
   "cell_type": "code",
   "execution_count": null,
   "id": "e29b5f37-734b-4981-a385-f71b22fee819",
   "metadata": {},
   "outputs": [],
   "source": [
    "# log(T) - log(T-1) = log(T / T-1) -> log returns!\n",
    "amazon_diff = np.diff(np.log(amazon))\n",
    "plot_correlogram(amazon_diff, 'Amazon Diff')"
   ]
  },
  {
   "cell_type": "code",
   "execution_count": null,
   "id": "5c4d8756-4c94-4c6b-9e9d-64981e9fd44a",
   "metadata": {},
   "outputs": [],
   "source": [
    "fig, axs = plt.subplots(1, figsize=(8, 5))\n",
    "fig.suptitle('S&P500')\n",
    "s_and_p_500.plot(ax=axs)"
   ]
  },
  {
   "cell_type": "code",
   "execution_count": null,
   "id": "dee142e3-b117-401f-bbe1-f2a27df23fd7",
   "metadata": {},
   "outputs": [],
   "source": [
    "# log(T) - log(T-1) = log(T / T-1) -> log returns!\n",
    "gspc_diff = np.diff(np.log(s_and_p_500))\n",
    "plot_correlogram(gspc_diff, 'S&P500 Log returns')"
   ]
  },
  {
   "cell_type": "code",
   "execution_count": null,
   "id": "aaa776c2-177b-405d-b1ad-bde7e977b9a0",
   "metadata": {},
   "outputs": [],
   "source": [
    "order = 22\n",
    "model = AutoReg(gspc_diff, order, trend='n')\n",
    "res = model.fit()\n",
    "print(res.summary())"
   ]
  },
  {
   "cell_type": "markdown",
   "id": "1534b1eb-3437-4b66-b454-772b242fe4cb",
   "metadata": {},
   "source": [
    "## MA(q) process\n",
    "\n",
    "A Moving Average model is similar to an Autoregressive model, except that instead of being a linear combination of past time series values, it is a linear combination of the past white noise terms.\n",
    "\n",
    "A key difference is that the MA model will only ever see the last q shocks for any particular MA(q) model, whereas the AR(p) model will take all prior shocks into account, albeit in a decreasingly weak manner.\n",
    "\n",
    "$x_t = w_t + \\beta_1 w_{t-1} + \\beta_2 w_{t-2} + ... + \\beta_q w_{t-q}$\n",
    "\n",
    "$x_t = (1 + \\beta_1 \\text{B} + \\beta_2 \\text{B}^2 + ... + \\beta_q \\text{B}^q) w_t$"
   ]
  },
  {
   "cell_type": "code",
   "execution_count": null,
   "id": "cb8756b0-3dd1-436c-a3ca-d7892887de5c",
   "metadata": {},
   "outputs": [],
   "source": [
    "white_noise = np.random.normal(loc=0, scale=1, size=(1000,))\n",
    "\n",
    "alpha1 = 1.1\n",
    "alpha2 = 1.2\n",
    "alpha3 = 0.9\n",
    "alpha4 = 1.1\n",
    "\n",
    "ma4 = white_noise.copy()\n",
    "for i in range(len(white_noise)):\n",
    "    if i < 4:\n",
    "        continue\n",
    "    \n",
    "    ma4[i] = white_noise[i] + alpha1 * white_noise[i-1] + alpha2 * white_noise[i-2]\n",
    "    \n",
    "plot_correlogram(ma4, 'MA(4)')"
   ]
  },
  {
   "cell_type": "code",
   "execution_count": null,
   "id": "59a5f26e-0206-4b35-8a76-2535c40a41fd",
   "metadata": {},
   "outputs": [],
   "source": [
    "from statsmodels.tsa.arima_process import ArmaProcess\n",
    "beta1 = 0.6\n",
    "beta2 = 0.4\n",
    "beta3 = 0.3\n",
    "ar = None\n",
    "ma = (1, beta1, beta2, beta3)\n",
    "process = ArmaProcess(ar, ma)\n",
    "ma_samples = process.generate_sample(nsample=1_000, burnin=10_000)\n",
    "plot_correlogram(ma_samples, 'MA(3) via statsmodels')"
   ]
  },
  {
   "cell_type": "code",
   "execution_count": null,
   "id": "6c62e84e-f135-41d6-8a9e-d2234fa4d9cc",
   "metadata": {},
   "outputs": [],
   "source": [
    "ar, i, ma = (0, 0, 3)\n",
    "order = (ar, i, ma)\n",
    "model = ARIMA(ma_samples, order=order, trend='n')\n",
    "result = model.fit()\n",
    "print(result.summary())"
   ]
  },
  {
   "cell_type": "code",
   "execution_count": null,
   "id": "5ba32bc1-4222-4325-850a-ae9e49d683f8",
   "metadata": {},
   "outputs": [],
   "source": [
    "plot_correlogram(result.resid, 'MA(3) residuals')"
   ]
  },
  {
   "cell_type": "markdown",
   "id": "784f13c7-ef5e-4ef1-bdf1-06ff6743d832",
   "metadata": {},
   "source": [
    "## ARMA(p, q) process\n",
    "\n",
    " - The AR model attempts to capture market participant effects such as momentum and mean-reversion in stock trading. \n",
    " - The MA model is used to characterise \"shock\" information to a series such as a surprise earnings announcements. A good example of \"shock\" news would be the BP Deepwater Horizon oil spill.\n",
    "\n",
    "The ARMA model attempts to capture both of these effects.\n",
    "\n",
    "$x_t = \\alpha_1 x_{t-1} + \\alpha_2 x_{t-2} + ... + \\alpha_p x_{t-p} + w_t + \\beta_1 w_{t-1} + \\beta_2 w_{t-2} + ... + \\beta_q w_{t-q}$\n",
    "\n",
    "$(1 - \\alpha_1 \\text{B} - \\alpha_2 \\text{B}^2 - ... - \\alpha_p \\text{B}^p) x_t = (1 + \\beta_1 \\text{B} + \\beta_2 \\text{B}^2 + ... + \\beta_q \\text{B}^q) w_t$"
   ]
  },
  {
   "cell_type": "code",
   "execution_count": null,
   "id": "2ef48320-e9fa-41ca-9a8b-e1a86d150d89",
   "metadata": {},
   "outputs": [],
   "source": [
    "from statsmodels.tsa.arima_process import ArmaProcess\n",
    "\n",
    "alpha1 = 0.5\n",
    "alpha2 = -0.25\n",
    "\n",
    "beta1 = 0.5\n",
    "beta2 = -0.3\n",
    "\n",
    "ar = (1, -alpha1, -alpha2)\n",
    "ma = (1,   beta1,   beta2)\n",
    "process = ArmaProcess(ar, ma)\n",
    "ma_samples = process.generate_sample(nsample=1_000, burnin=10)\n",
    "plot_correlogram(ma_samples, 'MA(3) via statsmodels')"
   ]
  },
  {
   "cell_type": "markdown",
   "id": "dc4762c6-e0c2-44d0-b2aa-d32b146202b1",
   "metadata": {},
   "source": [
    "## Fitting an ARMA[p, q] model using the lowest Akaike Information Criteria (AIC) "
   ]
  },
  {
   "cell_type": "code",
   "execution_count": null,
   "id": "0df1186e-821e-4b2d-92c8-898eeba347e5",
   "metadata": {},
   "outputs": [],
   "source": [
    "ar, i, ma = (0, 0, 0)\n",
    "\n",
    "lowest_aic = float('inf')\n",
    "\n",
    "for ar in range(1, 4):\n",
    "    for ma in range(1, 4):\n",
    "\n",
    "        order = (ar, i, ma)\n",
    "        model = ARIMA(ma_samples, order=order, trend='n')\n",
    "        result = model.fit()\n",
    "        print(f'ARMA[{ar}, {ma}]: {result.aic:.2f}')\n",
    "        if result.aic < lowest_aic:\n",
    "            lowest_aic = result.aic\n",
    "            best_order = (ar, i, ma)\n",
    "            \n",
    "model = ARIMA(ma_samples, order=best_order, trend='n')\n",
    "result = model.fit()\n",
    "print(result.summary())"
   ]
  },
  {
   "cell_type": "code",
   "execution_count": null,
   "id": "df6c772d-1a88-47ea-9ffe-7eea60789d3d",
   "metadata": {},
   "outputs": [],
   "source": [
    "plot_correlogram(result.resid, 'Residuals given fit to ARMA[p, q]')"
   ]
  },
  {
   "cell_type": "code",
   "execution_count": null,
   "id": "6dae1cc2-1086-4b56-8705-6f78d1b46e4e",
   "metadata": {},
   "outputs": [],
   "source": [
    "import pandas as pd\n",
    "import arch\n",
    "import arch.data.sp500\n",
    "\n",
    "# Assuming your time series data is stored in a DataFrame called 'data'\n",
    "# with the time series in a column called 'timeseries_column'\n",
    "data = arch.data.sp500.load()\n",
    "timeseries = data[\"Adj Close\"]\n",
    "\n",
    "# Fit an ARMA(2,2) model to the time series\n",
    "order=(2, 0, 2)\n",
    "arma_model = ARIMA(timeseries, order=order, trend='n')\n",
    "arma_results = model.fit()\n",
    "\n",
    "# Extract the residuals from the ARMA model\n",
    "residuals = arma_results.resid\n",
    "\n",
    "# Fit a GARCH(1,1) model to capture heteroscedasticity in the residuals\n",
    "garch_model = arch.arch_model(residuals, vol='Garch', p=1, q=1)\n",
    "garch_results = garch_model.fit()\n",
    "print(garch_results.summary())\n",
    "print('Here we have fitted a GARCH model to the residuals\\n\\n\\n')\n",
    "\n",
    "# Combine the ARMA and GARCH models into a single model\n",
    "combined_model = arch.arch_model(y=timeseries, x=arma_results.fittedvalues, vol='Garch', p=1, q=1)\n",
    "\n",
    "# Fit the combined model to the data\n",
    "results = combined_model.fit()\n",
    "\n",
    "# Access the model summary and parameters\n",
    "print(results.summary())\n"
   ]
  },
  {
   "cell_type": "code",
   "execution_count": null,
   "id": "acf22fd9-b956-4c10-869b-9b4db5a49ed4",
   "metadata": {},
   "outputs": [],
   "source": [
    "arma_results.forecast(10)"
   ]
  }
 ],
 "metadata": {
  "kernelspec": {
   "display_name": "Python 3 (ipykernel)",
   "language": "python",
   "name": "python3"
  },
  "language_info": {
   "codemirror_mode": {
    "name": "ipython",
    "version": 3
   },
   "file_extension": ".py",
   "mimetype": "text/x-python",
   "name": "python",
   "nbconvert_exporter": "python",
   "pygments_lexer": "ipython3",
   "version": "3.11.3"
  }
 },
 "nbformat": 4,
 "nbformat_minor": 5
}
